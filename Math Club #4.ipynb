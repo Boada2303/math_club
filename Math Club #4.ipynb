{
 "cells": [
  {
   "cell_type": "code",
   "execution_count": 4,
   "metadata": {},
   "outputs": [
    {
     "name": "stderr",
     "output_type": "stream",
     "text": [
      "C:\\Users\\Elver\\Anaconda3\\lib\\site-packages\\IPython\\html.py:14: ShimWarning: The `IPython.html` package has been deprecated since IPython 4.0. You should import from `notebook` instead. `IPython.html.widgets` has moved to `ipywidgets`.\n",
      "  \"`IPython.html.widgets` has moved to `ipywidgets`.\", ShimWarning)\n"
     ]
    }
   ],
   "source": [
    "import pandas as pd\n",
    "import matplotlib.pyplot as plt\n",
    "from ipywidgets import *\n",
    "from IPython.display import display\n",
    "from IPython.html import widgets"
   ]
  },
  {
   "cell_type": "code",
   "execution_count": 42,
   "metadata": {},
   "outputs": [],
   "source": [
    "import numpy as np\n",
    "import matplotlib.pyplot as plt\n",
    "from numpy import pi\n",
    "import matplotlib.patches as mpatches"
   ]
  },
  {
   "cell_type": "code",
   "execution_count": 58,
   "metadata": {},
   "outputs": [
    {
     "data": {
      "application/vnd.jupyter.widget-view+json": {
       "model_id": "39e64949ca144337bb7c9051bbd975bd",
       "version_major": 2,
       "version_minor": 0
      },
      "text/plain": [
       "interactive(children=(FloatSlider(value=2.0, description='r1', max=5.0, step=0.2), IntSlider(value=0, descript…"
      ]
     },
     "metadata": {},
     "output_type": "display_data"
    },
    {
     "data": {
      "text/plain": [
       "<function __main__.vectorMult(r1, theta1, r2, theta2)>"
      ]
     },
     "execution_count": 58,
     "metadata": {},
     "output_type": "execute_result"
    }
   ],
   "source": [
    "def vectorMult(r1,theta1,r2,theta2):\n",
    "    \n",
    "    r3 = r1*r2\n",
    "    theta3 = theta1 + theta2\n",
    "    r4 = r1/r2\n",
    "    theta4 = theta1 - theta2\n",
    "\n",
    "    V = np.array([[r1*np.cos(theta1*np.pi/180),r1*np.sin(theta1*np.pi/180)], # vector 1\n",
    "                  [r2*np.cos(theta2*np.pi/180),r2*np.sin(theta2*np.pi/180)], # vector 2 \n",
    "                  [r3*np.cos(theta3*np.pi/180),r3*np.sin(theta3*np.pi/180)], # multiplication vector\n",
    "                  [r4*np.cos(theta4*np.pi/180),r4*np.sin(theta4*np.pi/180)]])# division vector\n",
    "    \n",
    "    origin = [0],[0] # origin point\n",
    "\n",
    "    plt.figure(figsize=(10,10))\n",
    "    plt.quiver(*origin, V[:,0], V[:,1], color=['r','b','g','m'], scale=21)\n",
    "       \n",
    "    plt.grid(True)\n",
    "    \n",
    "    vector1 = mpatches.Patch(color='red', label='Vector 1')\n",
    "    vector2 = mpatches.Patch(color='blue', label='Vector 2')\n",
    "    multiplicationVector = mpatches.Patch(color='green', label='Multiplication Vector')\n",
    "    divisionVector = mpatches.Patch(color='magenta', label='Division Vector')\n",
    "    \n",
    "    plt.legend(handles=[vector1,vector2,multiplicationVector,divisionVector])\n",
    "    \n",
    "    plt.show()\n",
    "   \n",
    "    print(\"vector 1: \"+str(r1)+\"\\u2220\"+str(theta1)+\"\\u00B0\")\n",
    "    print(\"vector 2: \"+str(r2)+\"\\u2220\"+str(theta2)+\"\\u00B0\")\n",
    "    print(\"multiply: \"+str(r3)+\"\\u2220\"+str(theta3)+\"\\u00B0\")\n",
    "    print(\"division: \"+str(r4)+\"\\u2220\"+str(theta4)+\"\\u00B0\")\n",
    "    \n",
    "interact(vectorMult,\n",
    "         r1=(0,5,0.2),\n",
    "         theta1=(-360,360,1),\n",
    "         r2=(0,5,0.2),\n",
    "         theta2=(-360,360,1))\n",
    "\n"
   ]
  },
  {
   "cell_type": "code",
   "execution_count": null,
   "metadata": {},
   "outputs": [],
   "source": []
  },
  {
   "cell_type": "code",
   "execution_count": null,
   "metadata": {},
   "outputs": [],
   "source": []
  }
 ],
 "metadata": {
  "kernelspec": {
   "display_name": "Python 3",
   "language": "python",
   "name": "python3"
  },
  "language_info": {
   "codemirror_mode": {
    "name": "ipython",
    "version": 3
   },
   "file_extension": ".py",
   "mimetype": "text/x-python",
   "name": "python",
   "nbconvert_exporter": "python",
   "pygments_lexer": "ipython3",
   "version": "3.6.5"
  }
 },
 "nbformat": 4,
 "nbformat_minor": 2
}
